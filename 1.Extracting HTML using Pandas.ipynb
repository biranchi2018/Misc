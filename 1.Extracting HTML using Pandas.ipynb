{
  "nbformat": 4,
  "nbformat_minor": 0,
  "metadata": {
    "colab": {
      "name": "Solve SO Questions.ipynb",
      "provenance": [],
      "collapsed_sections": [],
      "authorship_tag": "ABX9TyMV3bcLm3xQFbDdIBajf63v",
      "include_colab_link": true
    },
    "kernelspec": {
      "name": "python3",
      "display_name": "Python 3"
    }
  },
  "cells": [
    {
      "cell_type": "markdown",
      "metadata": {
        "id": "view-in-github",
        "colab_type": "text"
      },
      "source": [
        "<a href=\"https://colab.research.google.com/github/biranchi2018/Misc/blob/master/1.Extracting%20HTML%20using%20Pandas.ipynb\" target=\"_parent\"><img src=\"https://colab.research.google.com/assets/colab-badge.svg\" alt=\"Open In Colab\"/></a>"
      ]
    },
    {
      "cell_type": "code",
      "metadata": {
        "id": "V1xQEUKaI9vY",
        "colab_type": "code",
        "colab": {
          "base_uri": "https://localhost:8080/",
          "height": 33
        },
        "outputId": "946ba3ae-337e-4260-bac1-28c01567b784"
      },
      "source": [
        "%%writefile test.html\n",
        "\n",
        "<html>\n",
        "<head>\n",
        "  <meta http-equiv=\"Content-type\" content=\"text/html;charset=UTF-8\" />\n",
        "</head>\n",
        "<body>\n",
        "\n",
        "<p>\n",
        "<table border=1>\n",
        "<caption align=left>Table 135</caption>\n",
        "<tr bgcolor=\"#d4d0c8\" bordercolor=black>\n",
        "<th bordercolor=black>User Name</th>\n",
        "<th bordercolor=black>Mobile Number</th>\n",
        "</tr>\n",
        "<tr bordercolor=black>\n",
        "<td bordercolor=black bgcolor=white>John</td>\n",
        "<td bordercolor=black bgcolor=white>1234567890</td>\n",
        "</tr>\n",
        "</table>\n",
        "</p>\n",
        "\n",
        "<p>\n",
        "<table border=1>\n",
        "<caption align=left>Table 246</caption>\n",
        "<tr bgcolor=\"#d4d0c8\" bordercolor=black>\n",
        "<th bordercolor=black>Salary</th>\n",
        "<th bordercolor=black>Experience</th>\n",
        "</tr>6\n",
        "<tr bordercolor=black>\n",
        "<td bordercolor=black bgcolor=white>$5000</td>\n",
        "<td bordercolor=black bgcolor=white>10</td>\n",
        "</tr>\n",
        "</table>\n",
        "</p>\n",
        "\n",
        "</body>\n",
        "</html>"
      ],
      "execution_count": 1,
      "outputs": [
        {
          "output_type": "stream",
          "text": [
            "Writing test.html\n"
          ],
          "name": "stdout"
        }
      ]
    },
    {
      "cell_type": "code",
      "metadata": {
        "id": "WZ74P3rgJBsq",
        "colab_type": "code",
        "colab": {}
      },
      "source": [
        "import pandas as pd"
      ],
      "execution_count": 2,
      "outputs": []
    },
    {
      "cell_type": "code",
      "metadata": {
        "id": "RH8xbC7MJFLn",
        "colab_type": "code",
        "colab": {}
      },
      "source": [
        "df = pd.read_html(\"test.html\", match='Table 246')"
      ],
      "execution_count": 12,
      "outputs": []
    },
    {
      "cell_type": "code",
      "metadata": {
        "id": "yOOAUneHJH42",
        "colab_type": "code",
        "colab": {
          "base_uri": "https://localhost:8080/",
          "height": 50
        },
        "outputId": "df17fe3f-0091-4b35-a6ee-58022d41e344"
      },
      "source": [
        "df"
      ],
      "execution_count": 13,
      "outputs": [
        {
          "output_type": "execute_result",
          "data": {
            "text/plain": [
              "[  Salary  Experience\n",
              " 0  $5000          10]"
            ]
          },
          "metadata": {
            "tags": []
          },
          "execution_count": 13
        }
      ]
    },
    {
      "cell_type": "code",
      "metadata": {
        "id": "zgXOYzdJJJsH",
        "colab_type": "code",
        "colab": {
          "base_uri": "https://localhost:8080/",
          "height": 33
        },
        "outputId": "3160f789-caa9-43e4-bb6a-ea6ede0d7216"
      },
      "source": [
        "len(df)"
      ],
      "execution_count": 14,
      "outputs": [
        {
          "output_type": "execute_result",
          "data": {
            "text/plain": [
              "1"
            ]
          },
          "metadata": {
            "tags": []
          },
          "execution_count": 14
        }
      ]
    },
    {
      "cell_type": "code",
      "metadata": {
        "id": "3ZEULF7PJUFx",
        "colab_type": "code",
        "colab": {
          "base_uri": "https://localhost:8080/",
          "height": 76
        },
        "outputId": "72626487-ae15-445c-b06e-21b1626ed103"
      },
      "source": [
        "df[0]"
      ],
      "execution_count": 15,
      "outputs": [
        {
          "output_type": "execute_result",
          "data": {
            "text/html": [
              "<div>\n",
              "<style scoped>\n",
              "    .dataframe tbody tr th:only-of-type {\n",
              "        vertical-align: middle;\n",
              "    }\n",
              "\n",
              "    .dataframe tbody tr th {\n",
              "        vertical-align: top;\n",
              "    }\n",
              "\n",
              "    .dataframe thead th {\n",
              "        text-align: right;\n",
              "    }\n",
              "</style>\n",
              "<table border=\"1\" class=\"dataframe\">\n",
              "  <thead>\n",
              "    <tr style=\"text-align: right;\">\n",
              "      <th></th>\n",
              "      <th>Salary</th>\n",
              "      <th>Experience</th>\n",
              "    </tr>\n",
              "  </thead>\n",
              "  <tbody>\n",
              "    <tr>\n",
              "      <th>0</th>\n",
              "      <td>$5000</td>\n",
              "      <td>10</td>\n",
              "    </tr>\n",
              "  </tbody>\n",
              "</table>\n",
              "</div>"
            ],
            "text/plain": [
              "  Salary  Experience\n",
              "0  $5000          10"
            ]
          },
          "metadata": {
            "tags": []
          },
          "execution_count": 15
        }
      ]
    },
    {
      "cell_type": "code",
      "metadata": {
        "id": "RkligCFBKBV5",
        "colab_type": "code",
        "colab": {}
      },
      "source": [
        "# df[1]"
      ],
      "execution_count": 17,
      "outputs": []
    },
    {
      "cell_type": "code",
      "metadata": {
        "id": "ZSImxZ7cKCZY",
        "colab_type": "code",
        "colab": {}
      },
      "source": [
        ""
      ],
      "execution_count": null,
      "outputs": []
    }
  ]
}