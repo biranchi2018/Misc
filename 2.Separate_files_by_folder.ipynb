{
  "nbformat": 4,
  "nbformat_minor": 0,
  "metadata": {
    "colab": {
      "name": "2.Separate files by folder.ipynb",
      "provenance": [],
      "collapsed_sections": [],
      "authorship_tag": "ABX9TyPtNIpsGW5pWCnOOsfF9/Fz",
      "include_colab_link": true
    },
    "kernelspec": {
      "name": "python3",
      "display_name": "Python 3"
    }
  },
  "cells": [
    {
      "cell_type": "markdown",
      "metadata": {
        "id": "view-in-github",
        "colab_type": "text"
      },
      "source": [
        "<a href=\"https://colab.research.google.com/github/biranchi2018/Misc/blob/master/2.Separate_files_by_folder.ipynb\" target=\"_parent\"><img src=\"https://colab.research.google.com/assets/colab-badge.svg\" alt=\"Open In Colab\"/></a>"
      ]
    },
    {
      "cell_type": "code",
      "metadata": {
        "id": "vWALXsv-rOfe",
        "colab_type": "code",
        "colab": {}
      },
      "source": [
        "import os\n",
        "import shutil\n"
      ],
      "execution_count": 10,
      "outputs": []
    },
    {
      "cell_type": "code",
      "metadata": {
        "id": "XhSQsVdCrSp3",
        "colab_type": "code",
        "colab": {}
      },
      "source": [
        "txt_path = os.path.join(os.getcwd(), \"text\")\n",
        "png_path = os.path.join(os.getcwd(), \"png\")\n",
        "pdf_path = os.path.join(os.getcwd(), \"pdf\")\n"
      ],
      "execution_count": 2,
      "outputs": []
    },
    {
      "cell_type": "code",
      "metadata": {
        "id": "_3e3CpiVruNz",
        "colab_type": "code",
        "colab": {
          "base_uri": "https://localhost:8080/",
          "height": 33
        },
        "outputId": "0a6d2e9c-0121-4443-8ffd-8dce609557b3"
      },
      "source": [
        "txt_path"
      ],
      "execution_count": 3,
      "outputs": [
        {
          "output_type": "execute_result",
          "data": {
            "text/plain": [
              "'/content/text'"
            ]
          },
          "metadata": {
            "tags": []
          },
          "execution_count": 3
        }
      ]
    },
    {
      "cell_type": "code",
      "metadata": {
        "id": "ZnIk9tXgrv2L",
        "colab_type": "code",
        "colab": {
          "base_uri": "https://localhost:8080/",
          "height": 33
        },
        "outputId": "716f3301-553f-4282-fb8b-77d845d95d75"
      },
      "source": [
        "png_path"
      ],
      "execution_count": 4,
      "outputs": [
        {
          "output_type": "execute_result",
          "data": {
            "text/plain": [
              "'/content/png'"
            ]
          },
          "metadata": {
            "tags": []
          },
          "execution_count": 4
        }
      ]
    },
    {
      "cell_type": "code",
      "metadata": {
        "id": "hCDUOuVQrzHQ",
        "colab_type": "code",
        "colab": {
          "base_uri": "https://localhost:8080/",
          "height": 33
        },
        "outputId": "952352eb-796e-4321-c465-1b4da7630bdf"
      },
      "source": [
        "pdf_path"
      ],
      "execution_count": 5,
      "outputs": [
        {
          "output_type": "execute_result",
          "data": {
            "text/plain": [
              "'/content/pdf'"
            ]
          },
          "metadata": {
            "tags": []
          },
          "execution_count": 5
        }
      ]
    },
    {
      "cell_type": "code",
      "metadata": {
        "id": "pG5HJJiLr0KI",
        "colab_type": "code",
        "colab": {
          "base_uri": "https://localhost:8080/",
          "height": 33
        },
        "outputId": "bba55ff2-2b0c-4d21-c2d5-be86ec87bb6c"
      },
      "source": [
        "if not os.path.isdir(txt_path):\n",
        "    os.makedirs(txt_path)\n",
        "    print(\"text folder created\")"
      ],
      "execution_count": 6,
      "outputs": [
        {
          "output_type": "stream",
          "text": [
            "text folder created\n"
          ],
          "name": "stdout"
        }
      ]
    },
    {
      "cell_type": "code",
      "metadata": {
        "id": "jpte5T_gr96f",
        "colab_type": "code",
        "colab": {
          "base_uri": "https://localhost:8080/",
          "height": 33
        },
        "outputId": "08a88d78-8f68-4fea-eedd-35aeb1fc3e23"
      },
      "source": [
        "if not os.path.isdir(png_path):\n",
        "    os.makedirs(png_path)\n",
        "    print(\"png folder created\")"
      ],
      "execution_count": 7,
      "outputs": [
        {
          "output_type": "stream",
          "text": [
            "png folder created\n"
          ],
          "name": "stdout"
        }
      ]
    },
    {
      "cell_type": "code",
      "metadata": {
        "id": "YCADrpgzsCGn",
        "colab_type": "code",
        "colab": {}
      },
      "source": [
        "if not os.path.isdir(pdf_path):\n",
        "    os.makedirs(pdf_path)\n",
        "    print(\"pdf folder created\")"
      ],
      "execution_count": 9,
      "outputs": []
    },
    {
      "cell_type": "code",
      "metadata": {
        "id": "82wd2yOKs6qo",
        "colab_type": "code",
        "colab": {}
      },
      "source": [
        "files = ['a.png' , 'b.pdf', 'c.txt']"
      ],
      "execution_count": 11,
      "outputs": []
    },
    {
      "cell_type": "code",
      "metadata": {
        "id": "C0e9b095sGHW",
        "colab_type": "code",
        "colab": {
          "base_uri": "https://localhost:8080/",
          "height": 66
        },
        "outputId": "ba9e4288-eb16-4fae-93d0-8019ede7cad7"
      },
      "source": [
        "for file in files:\n",
        "  file_path = os.path.join(os.getcwd(), file)\n",
        "  if file_path.endswith('.txt')==True:\n",
        "    print('move file to text folder')\n",
        "    #shutil.move(file_path, txt_path)\n",
        "  if file_path.endswith('.png')==True:\n",
        "    print('move file to png folder')\n",
        "    #shutil.move(file_path, png_path)\n",
        "  if file_path.endswith('.pdf')==True:\n",
        "    print('move file to pdf folder')\n",
        "    #shutil.move(file_path, pdf_path)"
      ],
      "execution_count": 14,
      "outputs": [
        {
          "output_type": "stream",
          "text": [
            "move file to png folder\n",
            "move file to pdf folder\n",
            "move file to text folder\n"
          ],
          "name": "stdout"
        }
      ]
    },
    {
      "cell_type": "code",
      "metadata": {
        "id": "P_z2SMLxth4G",
        "colab_type": "code",
        "colab": {}
      },
      "source": [
        ""
      ],
      "execution_count": null,
      "outputs": []
    }
  ]
}